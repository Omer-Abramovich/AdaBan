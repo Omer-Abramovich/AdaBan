{
 "cells": [
  {
   "cell_type": "code",
   "execution_count": 17,
   "id": "53142079",
   "metadata": {},
   "outputs": [],
   "source": [
    "import sys  \n",
    "sys.path.insert(0, \"../src\")\n",
    "\n",
    "from Banzhaf_Algorithms import calculate_banzhaf\n",
    "import Expansion"
   ]
  },
  {
   "cell_type": "code",
   "execution_count": 15,
   "id": "ffe1fc1d",
   "metadata": {},
   "outputs": [
    {
     "data": {
      "text/plain": [
       "[['a1', 'b1', 'c1'],\n",
       " ['a1', 'b1', 'c2'],\n",
       " ['a1', 'b1', 'c3'],\n",
       " ['a1', 'b2', 'c1'],\n",
       " ['a1', 'b2', 'c2'],\n",
       " ['a1', 'b2', 'c3'],\n",
       " ['a1', 'b3', 'c1'],\n",
       " ['a1', 'b3', 'c2'],\n",
       " ['a1', 'b3', 'c3'],\n",
       " ['a2', 'b4', 'c4'],\n",
       " ['a2', 'b4', 'c5'],\n",
       " ['a2', 'b4', 'c6'],\n",
       " ['a2', 'b4', 'c7'],\n",
       " ['a2', 'b4', 'c8'],\n",
       " ['a2', 'b4', 'c9'],\n",
       " ['a2', 'b4', 'c10'],\n",
       " ['a2', 'b4', 'c11'],\n",
       " ['a2', 'b5', 'c4'],\n",
       " ['a2', 'b5', 'c5'],\n",
       " ['a2', 'b5', 'c6'],\n",
       " ['a2', 'b5', 'c7'],\n",
       " ['a2', 'b5', 'c8'],\n",
       " ['a2', 'b5', 'c9'],\n",
       " ['a2', 'b5', 'c10'],\n",
       " ['a2', 'b5', 'c11']]"
      ]
     },
     "execution_count": 15,
     "metadata": {},
     "output_type": "execute_result"
    }
   ],
   "source": [
    "\"\"\"DNF example from Appendix D\"\"\"\n",
    "\n",
    "dnf = [[\"a1\", b, c] for b in [\"b\"+str(i) for i in range(1,4)] for c in [\"c\"+str(i) for i in range(1,4)]]\n",
    "dnf.extend([\"a2\", b, c] for b in [\"b\"+str(i) for i in range(4,6)] for c in [\"c\"+str(i) for i in range(4,12)])\n",
    "dnf = DNF(dnf)\n",
    "dnf.dnf"
   ]
  },
  {
   "cell_type": "code",
   "execution_count": 16,
   "id": "5a936d4e",
   "metadata": {},
   "outputs": [
    {
     "name": "stdout",
     "output_type": "stream",
     "text": [
      "Banzhaf values:\n",
      "a1: 62867\n",
      "a2: 60435\n",
      "Shapley values:\n",
      "a1: 0.2729627398745046\n",
      "a2: 0.2765702434820082\n"
     ]
    }
   ],
   "source": [
    "banzhaf_values = Banzhaf_Algorithms.calculate_banzhaf(dnf)[\"banzhaf_values\"]\n",
    "shapley_values = Expansion.Expansion(dnf).calculate_shapley()[\"shapley_values\"]\n",
    "print(\"Banzhaf values:\")\n",
    "print(f\"a1: {banzhaf_values['a1']}\")\n",
    "print(f\"a2: {banzhaf_values['a2']}\")\n",
    "print(\"Shapley values:\")\n",
    "print(f\"a1: {shapley_values['a1']}\")\n",
    "print(f\"a2: {shapley_values['a2']}\")"
   ]
  }
 ],
 "metadata": {
  "kernelspec": {
   "display_name": "Python 3 (ipykernel)",
   "language": "python",
   "name": "python3"
  },
  "language_info": {
   "codemirror_mode": {
    "name": "ipython",
    "version": 3
   },
   "file_extension": ".py",
   "mimetype": "text/x-python",
   "name": "python",
   "nbconvert_exporter": "python",
   "pygments_lexer": "ipython3",
   "version": "3.9.7"
  }
 },
 "nbformat": 4,
 "nbformat_minor": 5
}
